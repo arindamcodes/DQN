{
 "cells": [
  {
   "cell_type": "code",
   "execution_count": 11,
   "metadata": {},
   "outputs": [],
   "source": [
    "import gym\n",
    "import numpy as np\n",
    "import random\n",
    "import matplotlib.pyplot as plt\n",
    "import PIL.Image\n",
    "from collections import deque\n",
    "from pyvirtualdisplay import Display"
   ]
  },
  {
   "cell_type": "code",
   "execution_count": 12,
   "metadata": {},
   "outputs": [],
   "source": [
    "# Set up a virtual display to render the Lunar Lander environment.\n",
    "Display(visible=0, size=(840, 480)).start();\n",
    "env = gym.make('LunarLander-v2', render_mode=\"rgb_array\")\n"
   ]
  },
  {
   "cell_type": "code",
   "execution_count": 13,
   "metadata": {},
   "outputs": [
    {
     "data": {
      "image/png": "[encoded data removed]",
      "text/plain": [
       "<PIL.Image.Image image mode=RGB size=600x400>"
      ]
     },
     "execution_count": 13,
     "metadata": {},
     "output_type": "execute_result"
    }
   ],
   "source": [
    "env.reset()\n",
    "PIL.Image.fromarray(env.render())"
   ]
  },
  {
   "cell_type": "code",
   "execution_count": 14,
   "metadata": {},
   "outputs": [
    {
     "name": "stdout",
     "output_type": "stream",
     "text": [
      "State Shape: (8,)\n",
      "Number of actions: 4\n",
      "Initial State: (array([0.007, 1.405, 0.731, -0.257, -0.008, -0.166, 0.000, 0.000],\n",
      "      dtype=float32), {})\n",
      "Action: 0\n",
      "Next State: [0.014 1.399 0.730 -0.283 -0.017 -0.164 0.000 0.000]\n",
      "Reward Received: -0.9844890838578806\n",
      "Episode Terminated: False\n",
      "Info: {}\n",
      "Episode 2 | Total point average of the last 100 episodes: -251.71"
     ]
    },
    {
     "name": "stderr",
     "output_type": "stream",
     "text": [
      "/Users/arindams_mac_m2_pro/opt/anaconda3/envs/py310/lib/python3.10/site-packages/gym/utils/passive_env_checker.py:233: DeprecationWarning: `np.bool8` is a deprecated alias for `np.bool_`.  (Deprecated NumPy 1.24)\n",
      "  if not isinstance(terminated, (bool, np.bool8)):\n",
      "/Users/arindams_mac_m2_pro/opt/anaconda3/envs/py310/lib/python3.10/site-packages/torch/optim/optimizer.py:243: UserWarning: 'has_cuda' is deprecated, please use 'torch.backends.cuda.is_built()'\n",
      "  if not is_compiling() and torch.has_cuda and torch.cuda.is_available():\n"
     ]
    },
    {
     "name": "stdout",
     "output_type": "stream",
     "text": [
      "Episode 100 | Total point average of the last 100 episodes: -165.40\n",
      "Episode 200 | Total point average of the last 100 episodes: -68.807\n",
      "Episode 300 | Total point average of the last 100 episodes: -24.07\n",
      "Episode 400 | Total point average of the last 100 episodes: 28.779\n",
      "Episode 500 | Total point average of the last 100 episodes: 78.58\n",
      "Episode 600 | Total point average of the last 100 episodes: 63.61\n",
      "Episode 700 | Total point average of the last 100 episodes: 111.00\n",
      "Episode 800 | Total point average of the last 100 episodes: 159.97\n",
      "Episode 900 | Total point average of the last 100 episodes: 25.266\n",
      "Episode 1000 | Total point average of the last 100 episodes: 163.02\n",
      "Episode 1100 | Total point average of the last 100 episodes: 173.69\n",
      "Episode 1200 | Total point average of the last 100 episodes: 161.00\n",
      "Episode 1290 | Total point average of the last 100 episodes: 200.15\n",
      "\n",
      "Environment solved in 1290 episodes with total reward -5.823218000669525!\n"
     ]
    }
   ],
   "source": [
    "state_size = env.observation_space.shape\n",
    "num_actions = env.action_space.n\n",
    "\n",
    "print('State Shape:', state_size)\n",
    "print('Number of actions:', num_actions)\n",
    "# Reset the environment and get the initial state.\n",
    "initial_state = env.reset()\n",
    "# Select an action\n",
    "action = 0\n",
    "\n",
    "# Run a single time step of the environment's dynamics with the given action.\n",
    "next_state, reward, done, truncated, info = env.step(action)\n",
    "\n",
    "with np.printoptions(formatter={'float': '{:.3f}'.format}):\n",
    "    print(\"Initial State:\", initial_state)\n",
    "    print(\"Action:\", action)\n",
    "    print(\"Next State:\", next_state)\n",
    "    print(\"Reward Received:\", reward)\n",
    "    print(\"Episode Terminated:\", done)\n",
    "    print(\"Info:\", info)\n",
    "import torch\n",
    "import torch.nn as nn\n",
    "import torch.optim as optim\n",
    "class DQN(nn.Module):\n",
    "\n",
    "    def __init__(self, input_dim, output_dim):\n",
    "        super(DQN, self).__init__()\n",
    "        self.fc1 = nn.Linear(input_dim, 128)\n",
    "        self.fc2 = nn.Linear(128, 128)\n",
    "        self.out = nn.Linear(128, output_dim)\n",
    "        self.relu = nn.ReLU()\n",
    "\n",
    "    def forward(self, x):\n",
    "        x = self.fc1(x)\n",
    "        x = self.relu(x)\n",
    "        x = self.fc2(x)\n",
    "        x = self.relu(x)\n",
    "        x = self.out(x)\n",
    "        return x\n",
    "# Hyperparameters\n",
    "# Hyperparameters\n",
    "GAMMA = 0.99\n",
    "EPS_START = 1.0\n",
    "EPS_END = 0.01\n",
    "EPS_DECAY = 500\n",
    "TARGET_UPDATE = 10\n",
    "BATCH_SIZE = 64\n",
    "LR = 0.001\n",
    "MEMORY_SIZE = 10000\n",
    "NUM_STEPS_FOR_UPDATE = 5\n",
    "\n",
    "# Epsilon decay function\n",
    "def get_new_eps(epsilon):\n",
    "    return max(EPS_END, epsilon * 0.995)\n",
    "\n",
    "# Memory buffer\n",
    "memory_buffer = deque(maxlen=MEMORY_SIZE)\n",
    "\n",
    "q_network = DQN(state_size[0], num_actions)\n",
    "target_q_network = DQN(state_size[0], num_actions)\n",
    "\n",
    "target_q_network.load_state_dict(q_network.state_dict())\n",
    "optimizer = optim.AdamW(q_network.parameters(), lr=LR)\n",
    "\n",
    "# Epsilon greedy approach to take action\n",
    "def select_action(state, steps_done):\n",
    "    eps_threshold = EPS_END + (EPS_START - EPS_END) * np.exp(-1 * steps_done/ EPS_DECAY)\n",
    "    if np.random.rand() < eps_threshold:\n",
    "        return torch.tensor(np.array([np.random.randint(0, num_actions)]).reshape(1, 1), dtype=torch.long)\n",
    "    with torch.no_grad():\n",
    "        return q_network(state).max(1)[1].view(1, 1)\n",
    "\n",
    "# model optmization strategy\n",
    "def optimize_model(replay_memory):\n",
    "    if len(replay_memory) < BATCH_SIZE:\n",
    "        return\n",
    "    batch = random.sample(replay_memory, BATCH_SIZE)\n",
    "    states, actions, rewards, next_states, dones = zip(*batch)\n",
    "\n",
    "    states = torch.cat(states)\n",
    "    actions = torch.cat(actions)\n",
    "    rewards = torch.tensor(rewards, dtype=torch.float32).unsqueeze(1)\n",
    "    next_states = torch.cat(next_states)\n",
    "    dones = torch.tensor(dones, dtype=torch.float32).unsqueeze(1)\n",
    "\n",
    "    Q_values = q_network(states).gather(1, actions)\n",
    "    next_Q_values = target_q_network(next_states).max(1)[0].unsqueeze(1)\n",
    "    target = rewards + (1 - dones) * GAMMA * next_Q_values\n",
    "\n",
    "    criterion = nn.MSELoss()\n",
    "    loss = criterion(Q_values, target)\n",
    "    optimizer.zero_grad()\n",
    "    loss.backward()\n",
    "    optimizer.step()\n",
    "\n",
    "epsilon = EPS_START\n",
    "NUM_EPISODES = 2000\n",
    "MAX_ITERATIONS = 1000\n",
    "NUM_P_AV = 100 \n",
    "\n",
    "episode_rewards = []\n",
    "\n",
    "for episode in range(NUM_EPISODES):\n",
    "    state, _ = env.reset()\n",
    "    state = torch.tensor([state], dtype=torch.float32)\n",
    "    total_reward = 0\n",
    "    steps_done = 0\n",
    "\n",
    "    for _ in range(MAX_ITERATIONS):\n",
    "        # Select action using epsilon-greedy policy\n",
    "        if np.random.rand() < epsilon:\n",
    "            action = torch.tensor([[np.random.randint(num_actions)]], dtype=torch.long)\n",
    "        else:\n",
    "            with torch.no_grad():\n",
    "                action = q_network(state).max(1)[1].view(1, 1)\n",
    "\n",
    "        next_state, reward, done, _, _= env.step(action.item())\n",
    "        next_state = torch.tensor([next_state], dtype=torch.float32)\n",
    "\n",
    "        # Store experience in memory buffer\n",
    "        memory_buffer.append((state, action, reward, next_state, done))\n",
    "\n",
    "        # Update the network every NUM_STEPS_FOR_UPDATE time steps\n",
    "        if steps_done % NUM_STEPS_FOR_UPDATE == 0 and len(memory_buffer) >= BATCH_SIZE:\n",
    "            experiences = random.sample(memory_buffer, BATCH_SIZE)\n",
    "            optimize_model(experiences)\n",
    "\n",
    "        state = next_state\n",
    "        total_reward += reward\n",
    "        steps_done += 1\n",
    "\n",
    "        if done:\n",
    "            break\n",
    "\n",
    "    # Update epsilon\n",
    "    epsilon = get_new_eps(epsilon)\n",
    "\n",
    "    # Update target network\n",
    "    if episode % TARGET_UPDATE == 0:\n",
    "        target_q_network.load_state_dict(q_network.state_dict())\n",
    "\n",
    "    episode_rewards.append(total_reward)\n",
    "    av_latest_points = np.mean(episode_rewards[-NUM_P_AV:])\n",
    "    print(f\"\\rEpisode {episode+1} | Total point average of the last {NUM_P_AV} episodes: {av_latest_points:.2f}\", end=\"\")\n",
    "\n",
    "    if (episode+1) % NUM_P_AV == 0:\n",
    "        print(f\"\\rEpisode {episode+1} | Total point average of the last {NUM_P_AV} episodes: {av_latest_points:.2f}\")\n",
    "\n",
    "    # If the total reward for the episode exceeds 200, stop the training and save the weights.\n",
    "    if av_latest_points > 200:\n",
    "        print(f\"\\n\\nEnvironment solved in {episode+1} episodes with total reward {total_reward}!\")\n",
    "        torch.save(q_network.state_dict(), 'final_weights.pth')\n",
    "        break\n",
    "\n",
    "env.close()"
   ]
  },
  {
   "cell_type": "code",
   "execution_count": 55,
   "metadata": {},
   "outputs": [],
   "source": [
    "import imageio\n",
    "import base64\n",
    "import IPython\n",
    "\n",
    "def embed_mp4(filename):\n",
    "    \"\"\"Embeds an mp4 file in the notebook.\"\"\"\n",
    "    video = open(filename,'rb').read()\n",
    "    b64 = base64.b64encode(video)\n",
    "    tag = '''\n",
    "    <video width=\"840\" height=\"480\" controls>\n",
    "    <source src=\"data:video/mp4;base64,{0}\" type=\"video/mp4\">\n",
    "    Your browser does not support the video tag.\n",
    "    </video>'''.format(b64.decode())\n",
    "    return IPython.display.HTML(tag)\n",
    "        \n",
    "        \n",
    "def create_video(filename, env, q_network, fps=30):\n",
    "    with imageio.get_writer(filename, fps=fps) as video:\n",
    "        done = False\n",
    "        state, _ = env.reset()\n",
    "        frame = env.render()\n",
    "        video.append_data(frame)\n",
    "        while not done:    \n",
    "            state = torch.tensor([state], dtype=torch.float32)\n",
    "            with torch.no_grad():\n",
    "                action = q_network(state).max(1)[1].view(1, 1)\n",
    "            state, _, done, _, _ = env.step(action.item())\n",
    "            frame = env.render()\n",
    "            video.append_data(frame)\n",
    "\n",
    "env = gym.make('LunarLander-v2', render_mode=\"rgb_array\")\n",
    "create_video(\"./video/lunar_lander.mp4\", env, q_network)"
   ]
  },
  {
   "cell_type": "code",
   "execution_count": 58,
   "metadata": {},
   "outputs": [
    {
     "data": {
      "text/html": [
       "<video src=\"./video/lunar_lander.mp4\" controls  >\n",
       "      Your browser does not support the <code>video</code> element.\n",
       "    </video>"
      ],
      "text/plain": [
       "<IPython.core.display.Video object>"
      ]
     },
     "execution_count": 58,
     "metadata": {},
     "output_type": "execute_result"
    }
   ],
   "source": [
    "from IPython.display import Video\n",
    "Video(\"./video/lunar_lander.mp4\")"
   ]
  },
  {
   "cell_type": "code",
   "execution_count": null,
   "metadata": {},
   "outputs": [],
   "source": []
  }
 ],
 "metadata": {
  "kernelspec": {
   "display_name": "py310",
   "language": "python",
   "name": "py310"
  },
  "language_info": {
   "codemirror_mode": {
    "name": "ipython",
    "version": 3
   },
   "file_extension": ".py",
   "mimetype": "text/x-python",
   "name": "python",
   "nbconvert_exporter": "python",
   "pygments_lexer": "ipython3",
   "version": "3.10.11"
  },
  "orig_nbformat": 4
 },
 "nbformat": 4,
 "nbformat_minor": 2
}
